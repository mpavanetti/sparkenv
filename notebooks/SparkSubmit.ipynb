{
 "cells": [
  {
   "cell_type": "markdown",
   "id": "381dc714-d1d3-495b-ae44-385efab66e0e",
   "metadata": {},
   "source": [
    "## #Spark Basics\n",
    "### Run Spark python job through spark submit"
   ]
  },
  {
   "cell_type": "markdown",
   "id": "5282dd1b-e410-4feb-96aa-2b7b8347ebf4",
   "metadata": {},
   "source": [
    "### Submit Spark Python File Job to Spark Local"
   ]
  },
  {
   "cell_type": "code",
   "execution_count": null,
   "id": "f7cf410e-3e49-4804-b0e8-9308edbd06d8",
   "metadata": {},
   "outputs": [],
   "source": [
    "%%sh\n",
    "spark-submit \\\n",
    "/home/jovyan/work/jobs/spark_test_job.py \\\n",
    "--master local[2]"
   ]
  },
  {
   "cell_type": "markdown",
   "id": "425457a3-1a31-4267-adcd-550ff3d9d47a",
   "metadata": {},
   "source": [
    "### Submit job to Spark standalone cluster"
   ]
  },
  {
   "cell_type": "code",
   "execution_count": null,
   "id": "0a5f873d-5e0e-4a72-9506-743a652e2611",
   "metadata": {},
   "outputs": [],
   "source": [
    "%%sh\n",
    "spark-submit \\\n",
    "/home/jovyan/work/jobs/spark_test_job_cluster.py \\\n",
    "--master spark://spark:7077 \\\n",
    "--executor-memory 1G \\\n",
    "--total-executor-cores 1 \\\n",
    "--deploy-mode cluster \\\n",
    "--supervise \\"
   ]
  }
 ],
 "metadata": {
  "kernelspec": {
   "display_name": "Python 3 (ipykernel)",
   "language": "python",
   "name": "python3"
  },
  "language_info": {
   "codemirror_mode": {
    "name": "ipython",
    "version": 3
   },
   "file_extension": ".py",
   "mimetype": "text/x-python",
   "name": "python",
   "nbconvert_exporter": "python",
   "pygments_lexer": "ipython3",
   "version": "3.10.6"
  }
 },
 "nbformat": 4,
 "nbformat_minor": 5
}
