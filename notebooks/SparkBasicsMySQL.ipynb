{
 "cells": [
  {
   "cell_type": "markdown",
   "id": "c4f7739c-1440-4441-b9ba-7bc5bdf0f185",
   "metadata": {},
   "source": [
    "## Apache Spark basics\n",
    "### Create Spark Session Local 2 cpus\n",
    "### Read delimited file\n",
    "### Write into MySQL Table"
   ]
  },
  {
   "cell_type": "code",
   "execution_count": null,
   "id": "865226f4-9820-4e33-9332-030ad749ca5c",
   "metadata": {},
   "outputs": [],
   "source": [
    "from pyspark.sql.session import SparkSession\n",
    "import os\n",
    "path = f\"{os.getcwd()}/../\""
   ]
  },
  {
   "cell_type": "code",
   "execution_count": null,
   "id": "50cc2318-e229-4708-9bbd-68cf8951330d",
   "metadata": {},
   "outputs": [],
   "source": [
    "spark = (SparkSession\n",
    "            .builder\n",
    "            .appName(\"WriteMySQL\")\n",
    "            #.master(\"local[2]\") # Uncomment this if using spark local deployment mode.\n",
    "            .master(\"spark://spark:7077\") # Uncomment this if using spark standalone deployment mode.\n",
    "            .config(\"spark.jars\", f\"{path}/jars/mysql-connector-j-8.0.31.jar\")\n",
    "            .getOrCreate())"
   ]
  },
  {
   "cell_type": "code",
   "execution_count": null,
   "id": "039ede94-7192-4332-9e6f-658ae12258fc",
   "metadata": {},
   "outputs": [],
   "source": [
    "df2 = (spark\n",
    "       .read\n",
    "       .csv(f\"{path}/data/input/words.txt\",\n",
    "            inferSchema=True,\n",
    "            header=True,\n",
    "            sep=\"-\"))"
   ]
  },
  {
   "cell_type": "code",
   "execution_count": null,
   "id": "5c1e916e-ed8a-47c0-80fc-26c486c58a68",
   "metadata": {},
   "outputs": [],
   "source": [
    "df2.printSchema()"
   ]
  },
  {
   "cell_type": "code",
   "execution_count": null,
   "id": "293f4869-f32e-4d1b-9e31-58397045026e",
   "metadata": {},
   "outputs": [],
   "source": [
    "df2.show(20,False)"
   ]
  },
  {
   "cell_type": "code",
   "execution_count": null,
   "id": "dafb6286-ec31-478c-81fb-34335499cbf9",
   "metadata": {},
   "outputs": [],
   "source": [
    "df2.write \\\n",
    "    .format(\"jdbc\") \\\n",
    "    .mode(\"overwrite\") \\\n",
    "    .option(\"driver\", \"com.mysql.jdbc.Driver\") \\\n",
    "    .option(\"url\", \"jdbc:mysql://mariadb:3306/data?rewriteBatchedStatements=true\") \\\n",
    "    .option(\"user\", \"mysql\") \\\n",
    "    .option(\"password\", \"mysql\") \\\n",
    "    .option(\"dbtable\", \"words\") \\\n",
    "    .save()"
   ]
  },
  {
   "cell_type": "markdown",
   "id": "83ade8dd-b78a-47c6-a320-9f1e67e3440e",
   "metadata": {},
   "source": [
    "### Read from mysql table and show dataframe"
   ]
  },
  {
   "cell_type": "code",
   "execution_count": null,
   "id": "00cee095-5fb3-447d-984f-5812fdd356e3",
   "metadata": {},
   "outputs": [],
   "source": [
    "dbDf = (spark\n",
    "        .read\n",
    "        .format(\"jdbc\")\n",
    "        .option(\"url\", \"jdbc:mysql://mariadb:3306/data\") \\\n",
    "        .option(\"query\", \"SELECT * FROM words\") \\\n",
    "        .option(\"user\", \"mysql\") \\\n",
    "        .option(\"password\", \"mysql\") \\\n",
    "        .option(\"driver\", \"com.mysql.jdbc.Driver\") \\\n",
    "        .load())"
   ]
  },
  {
   "cell_type": "code",
   "execution_count": null,
   "id": "664483d3-7d57-4167-acae-b3e993469d5b",
   "metadata": {},
   "outputs": [],
   "source": [
    "dbDf.show()"
   ]
  },
  {
   "cell_type": "code",
   "execution_count": null,
   "id": "4cec62c3-b6d7-4cd1-9e49-73a7817b3c55",
   "metadata": {},
   "outputs": [],
   "source": []
  }
 ],
 "metadata": {
  "kernelspec": {
   "display_name": "Python 3 (ipykernel)",
   "language": "python",
   "name": "python3"
  },
  "language_info": {
   "codemirror_mode": {
    "name": "ipython",
    "version": 3
   },
   "file_extension": ".py",
   "mimetype": "text/x-python",
   "name": "python",
   "nbconvert_exporter": "python",
   "pygments_lexer": "ipython3",
   "version": "3.10.6"
  }
 },
 "nbformat": 4,
 "nbformat_minor": 5
}
